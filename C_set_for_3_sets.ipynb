{
  "nbformat": 4,
  "nbformat_minor": 0,
  "metadata": {
    "colab": {
      "name": "C_set for 3 sets.ipynb",
      "provenance": []
    },
    "kernelspec": {
      "name": "python3",
      "display_name": "Python 3"
    }
  },
  "cells": [
    {
      "cell_type": "code",
      "metadata": {
        "id": "OHztweogv1U7",
        "colab_type": "code",
        "colab": {}
      },
      "source": [
        "import numpy as np\n",
        "from matplotlib import pyplot as plt\n",
        "from matplotlib.pyplot import imshow"
      ],
      "execution_count": 0,
      "outputs": []
    },
    {
      "cell_type": "code",
      "metadata": {
        "id": "8aX5NWgswrrF",
        "colab_type": "code",
        "colab": {}
      },
      "source": [
        "set_a = np.asarray([[1, 1, 0],\n",
        "                    [1, 1, 0],\n",
        "                    [0, 0, 0]])\n",
        "\n",
        "set_b = np.asarray([[0, 1, 1],\n",
        "                    [0, 1, 1],\n",
        "                    [0, 0, 0]])\n",
        "\n",
        "set_c = np.asarray([[0, 0, 0],\n",
        "                    [1, 1, 0],\n",
        "                    [1, 1, 0]])\n",
        "\n",
        "sets = [set_a, set_b, set_c]"
      ],
      "execution_count": 0,
      "outputs": []
    },
    {
      "cell_type": "code",
      "metadata": {
        "id": "IERNvMDQJUF_",
        "colab_type": "code",
        "outputId": "8ca528e6-e8f3-4d98-babb-4957ef93fc30",
        "colab": {
          "base_uri": "https://localhost:8080/",
          "height": 183
        }
      },
      "source": [
        "w=10\n",
        "h=10\n",
        "fig=plt.figure(figsize=(8, 8))\n",
        "columns = 3\n",
        "rows = 1\n",
        "for i in range(1, columns*rows +1):\n",
        "    img = sets[i-1]\n",
        "    fig.add_subplot(rows, columns, i)\n",
        "    plt.imshow(img)\n",
        "plt.show()"
      ],
      "execution_count": 0,
      "outputs": [
        {
          "output_type": "display_data",
          "data": {
            "image/png": "[encoded data removed]",
            "text/plain": [
              "<Figure size 576x576 with 3 Axes>"
            ]
          },
          "metadata": {
            "tags": []
          }
        }
      ]
    },
    {
      "cell_type": "code",
      "metadata": {
        "id": "nNPhtvwp7jK0",
        "colab_type": "code",
        "outputId": "4781851d-c35d-4a42-df75-d1c3d1c4059d",
        "colab": {
          "base_uri": "https://localhost:8080/",
          "height": 382
        }
      },
      "source": [
        "C1 = (set_a+set_b+set_c == 3) * 1\n",
        "C2 = (set_a-set_b-set_c == 1) * 1\n",
        "C3 = (set_b-set_a-set_c == 1) * 1\n",
        "C4 = (set_c-set_a-set_b == 1) * 1\n",
        "C5 = (((set_a == 0) * 1 + (set_b == 0) * 1 + (set_c == 0) * 1) == 3) * 1\n",
        "C6 = ((((set_a+set_b == 2) * 1) - set_c) == 1) * 1\n",
        "C7 = ((((set_a+set_c == 2) * 1) - set_b) == 1) * 1\n",
        "C8 = ((((set_b+set_c == 2) * 1) - set_a) == 1) * 1\n",
        "\n",
        "C = [C1, C2, C3, C4, C5, C6, C7, C8]\n",
        "union_C = C1 + C2 + C3 + C4 + C5 + C6 + C7 + C8\n",
        "\n",
        "fig=plt.figure(figsize=(8, 8))\n",
        "columns = 4\n",
        "rows = 2\n",
        "for i in range(1, columns*rows +1):\n",
        "    img = C[i-1]\n",
        "    fig.add_subplot(rows, columns, i)\n",
        "    plt.imshow(img)\n"
      ],
      "execution_count": 0,
      "outputs": [
        {
          "output_type": "display_data",
          "data": {
            "image/png": "[encoded data removed]",
            "text/plain": [
              "<Figure size 576x576 with 8 Axes>"
            ]
          },
          "metadata": {
            "tags": []
          }
        }
      ]
    },
    {
      "cell_type": "code",
      "metadata": {
        "id": "gsLgeWPgMJzJ",
        "colab_type": "code",
        "outputId": "eb946e1b-54d9-4f0a-b2cf-25c03b19adaf",
        "colab": {
          "base_uri": "https://localhost:8080/",
          "height": 69
        }
      },
      "source": [
        "print(union_C)"
      ],
      "execution_count": 0,
      "outputs": [
        {
          "output_type": "stream",
          "text": [
            "[[1 1 1]\n",
            " [1 1 1]\n",
            " [1 1 1]]\n"
          ],
          "name": "stdout"
        }
      ]
    },
    {
      "cell_type": "code",
      "metadata": {
        "id": "zNdP8ZfmNCbH",
        "colab_type": "code",
        "colab": {}
      },
      "source": [
        ""
      ],
      "execution_count": 0,
      "outputs": []
    }
  ]
}